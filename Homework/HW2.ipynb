{
 "cells": [
  {
   "cell_type": "markdown",
   "metadata": {},
   "source": [
    "# [Homework 2](http://work.caltech.edu/homework/hw2.pdf) of [CS156](http://work.caltech.edu/telecourse.html)."
   ]
  },
  {
   "cell_type": "markdown",
   "metadata": {},
   "source": [
    "### Hoeffding Inequality "
   ]
  },
  {
   "cell_type": "markdown",
   "metadata": {},
   "source": [
    "Run a computer simulation for flipping **1,000** virtual fair coins. Flip each coin independently **10** times. Focus on 3 coins as follows: _c1_ is the first coin flipped, _crand_ is a coin chosen randomly from the 1,000, and _cmin_ is the coin which had the minimum frequency of heads (pick the earlier one in case of a tie). Let **ν1**, **νrand**, and **νmin** be the fraction of heads obtained for the **3** respective coins out of the **10** tosses.\n",
    "Run the experiment **100,000** times in order to get a full distribution of **ν1**, **νrand**, and **νmin** (note that crand and cmin will change from run to run)."
   ]
  },
  {
   "cell_type": "markdown",
   "metadata": {},
   "source": [
    "#### 1.The average value of νmin is closest to:\n",
    "\n",
    "[a] 0\n",
    "\n",
    "[b] 0.01\n",
    "\n",
    "[c] 0.1\n",
    "\n",
    "[d] 0.5\n",
    "\n",
    "[e] 0.67"
   ]
  },
  {
   "cell_type": "markdown",
   "metadata": {},
   "source": [
    "**Intuitively**, we can guess that the answer should be **0.5** since after a huge number of tosses the probability of getting heads is irrelevant to the 3 given coin picking methods if the coins are fair.\n",
    "\n",
    "#### However, it is no harm to experiment with codes:"
   ]
  },
  {
   "cell_type": "code",
   "execution_count": 1,
   "metadata": {},
   "outputs": [],
   "source": [
    "# First import the random library\n",
    "import random"
   ]
  },
  {
   "cell_type": "code",
   "execution_count": 2,
   "metadata": {},
   "outputs": [],
   "source": [
    "# Define a coin class:\n",
    "class Coin:\n",
    "    def __init__(self):\n",
    "        self.last_toss = None\n",
    "        self.hist_toss = []\n",
    "    \n",
    "    def toss(self):\n",
    "        \"\"\"\n",
    "        1 is head\n",
    "        0 is tail\n",
    "        \"\"\"\n",
    "        self.last_toss = 1 if random.random() > 0.5 else 0\n",
    "    \n",
    "    def record(self):\n",
    "        self.hist_toss.append(self.last_toss)\n",
    "        \n",
    "    def count_head(self):\n",
    "        return sum(self.hist_toss)"
   ]
  },
  {
   "cell_type": "markdown",
   "metadata": {},
   "source": [
    "For v1 it is simple. It is just equivalent to toss a coin for 100000 * 10 times:"
   ]
  },
  {
   "cell_type": "code",
   "execution_count": 3,
   "metadata": {},
   "outputs": [
    {
     "name": "stdout",
     "output_type": "stream",
     "text": [
      "0.500299\n"
     ]
    }
   ],
   "source": [
    "coin = Coin()\n",
    "for i in range(100000 * 10):\n",
    "    coin.toss()\n",
    "    coin.record()\n",
    "v1 = coin.count_head() / (100000 * 10)\n",
    "print(v1)"
   ]
  },
  {
   "cell_type": "markdown",
   "metadata": {},
   "source": [
    "For vrand and vmin, we need to construct a list of 1000 coins"
   ]
  },
  {
   "cell_type": "code",
   "execution_count": 4,
   "metadata": {},
   "outputs": [
    {
     "name": "stdout",
     "output_type": "stream",
     "text": [
      "506\n"
     ]
    },
    {
     "data": {
      "text/plain": [
       "0.506"
      ]
     },
     "execution_count": 4,
     "metadata": {},
     "output_type": "execute_result"
    }
   ],
   "source": [
    "# Define experiment for vrand:\n",
    "def vrand_toss(num: int):\n",
    "    \"\"\"\n",
    "    num: Number of experiments.\n",
    "    \"\"\"\n",
    "    vrand_pick = None\n",
    "    coin_ls = [Coin() for i in range(1000)] # It's better to define a new ls every experiment inside the function.\n",
    "    for t in range(num):\n",
    "        for coin in coin_ls:\n",
    "            coin.toss()\n",
    "            coin.record()\n",
    "    vrand_pick = [coin.count_head() for coin in coin_ls][random.randint(0, 999)]\n",
    "    print(vrand_pick)\n",
    "    return vrand_pick / num\n",
    "\n",
    "vrand_toss(1000)"
   ]
  },
  {
   "cell_type": "markdown",
   "metadata": {},
   "source": [
    "The above code is rather inefficient, though it can do the job."
   ]
  },
  {
   "cell_type": "code",
   "execution_count": 5,
   "metadata": {},
   "outputs": [
    {
     "data": {
      "text/plain": [
       "0.03670000000000025"
      ]
     },
     "execution_count": 5,
     "metadata": {},
     "output_type": "execute_result"
    }
   ],
   "source": [
    "# Define experiment for vmin:\n",
    "def vmin_toss():\n",
    "    \"\"\"\n",
    "    num: Number of experiments.\n",
    "    \"\"\"\n",
    "    vmins = None\n",
    "    coin_ls = [Coin() for i in range(1000)] # It's better to define a new ls every experiment inside the function.\n",
    "    for t in range(10):\n",
    "        for coin in coin_ls:\n",
    "            coin.toss()\n",
    "            coin.record()\n",
    "    # print([coin.count_head() for coin in coin_ls])\n",
    "    vmins = min([coin.count_head() for coin in coin_ls])\n",
    "    return vmins / 10\n",
    "\n",
    "exp_n = 1000\n",
    "sum([vmin_toss() for i in range(exp_n)]) / exp_n"
   ]
  },
  {
   "cell_type": "markdown",
   "metadata": {},
   "source": [
    "Thus, we can know that our intuition is correct for v1 and vrand, but not for vmin. Thus the answer for question 1 should be **[b] 0.01**."
   ]
  },
  {
   "cell_type": "markdown",
   "metadata": {},
   "source": [
    "#### 2.Which coin(s) has a distribution of ν that satisfies the (single-bin) Hoeffding Inequality?\n",
    "\n",
    "[a] c1 only\n",
    "\n",
    "[b] crand only\n",
    "\n",
    "[c] cmin only\n",
    "\n",
    "[d] c1 and crand\n",
    "\n",
    "[e] cmin and crand"
   ]
  },
  {
   "cell_type": "markdown",
   "metadata": {},
   "source": [
    "From question 1 we can find out that **[d] c1 and crand** is the correct answer."
   ]
  },
  {
   "cell_type": "code",
   "execution_count": null,
   "metadata": {},
   "outputs": [],
   "source": []
  }
 ],
 "metadata": {
  "kernelspec": {
   "display_name": "Python 3",
   "language": "python",
   "name": "python3"
  },
  "language_info": {
   "codemirror_mode": {
    "name": "ipython",
    "version": 3
   },
   "file_extension": ".py",
   "mimetype": "text/x-python",
   "name": "python",
   "nbconvert_exporter": "python",
   "pygments_lexer": "ipython3",
   "version": "3.6.3"
  }
 },
 "nbformat": 4,
 "nbformat_minor": 2
}
